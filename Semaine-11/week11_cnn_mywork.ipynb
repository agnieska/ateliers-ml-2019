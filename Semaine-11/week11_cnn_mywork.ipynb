{
 "cells": [
  {
   "cell_type": "code",
   "execution_count": 1,
   "metadata": {},
   "outputs": [
    {
     "name": "stdout",
     "output_type": "stream",
     "text": [
      "Requirement already satisfied: keras in /sgoinfre/goinfre/Perso/aslusarc/anaconda3/lib/python3.6/site-packages (2.2.4)\n",
      "Collecting tensorflow==1.5\n",
      "\u001b[?25l  Downloading https://files.pythonhosted.org/packages/f2/0b/da4f6379f12ca375b1155f542d0d36803ba2c6b406d39e6bde5eaa2f0abe/tensorflow-1.5.0-cp36-cp36m-macosx_10_11_x86_64.whl (42.5MB)\n",
      "\u001b[K    100% |████████████████████████████████| 42.5MB 157kB/s eta 0:00:01\n",
      "\u001b[?25hRequirement already satisfied: opencv-python in /sgoinfre/goinfre/Perso/aslusarc/anaconda3/lib/python3.6/site-packages (4.1.0.25)\n",
      "Requirement already satisfied: scipy>=0.14 in /sgoinfre/goinfre/Perso/aslusarc/anaconda3/lib/python3.6/site-packages (from keras) (1.1.0)\n",
      "Requirement already satisfied: keras-applications>=1.0.6 in /sgoinfre/goinfre/Perso/aslusarc/anaconda3/lib/python3.6/site-packages (from keras) (1.0.7)\n",
      "Requirement already satisfied: keras-preprocessing>=1.0.5 in /sgoinfre/goinfre/Perso/aslusarc/anaconda3/lib/python3.6/site-packages (from keras) (1.0.9)\n",
      "Requirement already satisfied: pyyaml in /sgoinfre/goinfre/Perso/aslusarc/anaconda3/lib/python3.6/site-packages (from keras) (3.12)\n",
      "Requirement already satisfied: h5py in /sgoinfre/goinfre/Perso/aslusarc/anaconda3/lib/python3.6/site-packages (from keras) (2.7.1)\n",
      "Requirement already satisfied: numpy>=1.9.1 in /sgoinfre/goinfre/Perso/aslusarc/anaconda3/lib/python3.6/site-packages (from keras) (1.16.3)\n",
      "Requirement already satisfied: six>=1.9.0 in /sgoinfre/goinfre/Perso/aslusarc/anaconda3/lib/python3.6/site-packages (from keras) (1.11.0)\n",
      "Collecting tensorflow-tensorboard<1.6.0,>=1.5.0 (from tensorflow==1.5)\n",
      "\u001b[?25l  Downloading https://files.pythonhosted.org/packages/cc/fa/91c06952517b4f1bc075545b062a4112e30cebe558a6b962816cb33efa27/tensorflow_tensorboard-1.5.1-py3-none-any.whl (3.0MB)\n",
      "\u001b[K    100% |████████████████████████████████| 3.0MB 11.2MB/s ta 0:00:01\n",
      "\u001b[?25hRequirement already satisfied: wheel>=0.26 in /sgoinfre/goinfre/Perso/aslusarc/anaconda3/lib/python3.6/site-packages (from tensorflow==1.5) (0.31.1)\n",
      "Requirement already satisfied: protobuf>=3.4.0 in /sgoinfre/goinfre/Perso/aslusarc/anaconda3/lib/python3.6/site-packages (from tensorflow==1.5) (3.7.1)\n",
      "Requirement already satisfied: absl-py>=0.1.6 in /sgoinfre/goinfre/Perso/aslusarc/anaconda3/lib/python3.6/site-packages (from tensorflow==1.5) (0.7.1)\n",
      "Requirement already satisfied: werkzeug>=0.11.10 in /sgoinfre/goinfre/Perso/aslusarc/anaconda3/lib/python3.6/site-packages (from tensorflow-tensorboard<1.6.0,>=1.5.0->tensorflow==1.5) (0.14.1)\n",
      "Collecting html5lib==0.9999999 (from tensorflow-tensorboard<1.6.0,>=1.5.0->tensorflow==1.5)\n",
      "\u001b[?25l  Downloading https://files.pythonhosted.org/packages/ae/ae/bcb60402c60932b32dfaf19bb53870b29eda2cd17551ba5639219fb5ebf9/html5lib-0.9999999.tar.gz (889kB)\n",
      "\u001b[K    100% |████████████████████████████████| 890kB 20.9MB/s ta 0:00:01\n",
      "\u001b[?25hRequirement already satisfied: markdown>=2.6.8 in /sgoinfre/goinfre/Perso/aslusarc/anaconda3/lib/python3.6/site-packages (from tensorflow-tensorboard<1.6.0,>=1.5.0->tensorflow==1.5) (3.1)\n",
      "Collecting bleach==1.5.0 (from tensorflow-tensorboard<1.6.0,>=1.5.0->tensorflow==1.5)\n",
      "  Downloading https://files.pythonhosted.org/packages/33/70/86c5fec937ea4964184d4d6c4f0b9551564f821e1c3575907639036d9b90/bleach-1.5.0-py2.py3-none-any.whl\n",
      "Requirement already satisfied: setuptools in /sgoinfre/goinfre/Perso/aslusarc/anaconda3/lib/python3.6/site-packages (from protobuf>=3.4.0->tensorflow==1.5) (39.1.0)\n",
      "Building wheels for collected packages: html5lib\n",
      "  Running setup.py bdist_wheel for html5lib ... \u001b[?25ldone\n",
      "\u001b[?25h  Stored in directory: /Users/aslusarc/Library/Caches/pip/wheels/50/ae/f9/d2b189788efcf61d1ee0e36045476735c838898eef1cad6e29\n",
      "Successfully built html5lib\n",
      "Installing collected packages: html5lib, bleach, tensorflow-tensorboard, tensorflow\n",
      "  Found existing installation: html5lib 1.0.1\n",
      "    Uninstalling html5lib-1.0.1:\n",
      "      Successfully uninstalled html5lib-1.0.1\n",
      "  Found existing installation: bleach 2.1.3\n",
      "    Uninstalling bleach-2.1.3:\n",
      "      Successfully uninstalled bleach-2.1.3\n",
      "  Found existing installation: tensorflow 1.13.1\n",
      "    Uninstalling tensorflow-1.13.1:\n",
      "      Successfully uninstalled tensorflow-1.13.1\n",
      "Successfully installed bleach-1.5.0 html5lib-0.9999999 tensorflow-1.5.0 tensorflow-tensorboard-1.5.1\n",
      "\u001b[33mYou are using pip version 18.1, however version 19.1 is available.\n",
      "You should consider upgrading via the 'pip install --upgrade pip' command.\u001b[0m\n"
     ]
    }
   ],
   "source": [
    "!pip install keras tensorflow==1.5 opencv-python"
   ]
  },
  {
   "cell_type": "code",
   "execution_count": 3,
   "metadata": {},
   "outputs": [
    {
     "name": "stdout",
     "output_type": "stream",
     "text": [
      "Requirement already satisfied: absl-py in /sgoinfre/goinfre/Perso/aslusarc/anaconda3/lib/python3.6/site-packages (from -r ../requirements.txt (line 1)) (0.7.1)\n",
      "Requirement already satisfied: appnope in /sgoinfre/goinfre/Perso/aslusarc/anaconda3/lib/python3.6/site-packages (from -r ../requirements.txt (line 2)) (0.1.0)\n",
      "Requirement already satisfied: asn1crypto in /sgoinfre/goinfre/Perso/aslusarc/anaconda3/lib/python3.6/site-packages (from -r ../requirements.txt (line 3)) (0.24.0)\n",
      "Requirement already satisfied: astor in /sgoinfre/goinfre/Perso/aslusarc/anaconda3/lib/python3.6/site-packages (from -r ../requirements.txt (line 4)) (0.7.1)\n",
      "Requirement already satisfied: attrs in /sgoinfre/goinfre/Perso/aslusarc/anaconda3/lib/python3.6/site-packages (from -r ../requirements.txt (line 5)) (18.1.0)\n",
      "Requirement already satisfied: backcall in /sgoinfre/goinfre/Perso/aslusarc/anaconda3/lib/python3.6/site-packages (from -r ../requirements.txt (line 6)) (0.1.0)\n",
      "Requirement already satisfied: bleach in /sgoinfre/goinfre/Perso/aslusarc/anaconda3/lib/python3.6/site-packages (from -r ../requirements.txt (line 7)) (1.5.0)\n",
      "Requirement already satisfied: certifi in /sgoinfre/goinfre/Perso/aslusarc/anaconda3/lib/python3.6/site-packages (from -r ../requirements.txt (line 8)) (2018.4.16)\n",
      "Requirement already satisfied: cffi in /sgoinfre/goinfre/Perso/aslusarc/anaconda3/lib/python3.6/site-packages (from -r ../requirements.txt (line 9)) (1.11.5)\n",
      "Requirement already satisfied: chardet in /sgoinfre/goinfre/Perso/aslusarc/anaconda3/lib/python3.6/site-packages (from -r ../requirements.txt (line 10)) (3.0.4)\n",
      "Requirement already satisfied: conda in /sgoinfre/goinfre/Perso/aslusarc/anaconda3/lib/python3.6/site-packages (from -r ../requirements.txt (line 11)) (4.5.4)\n",
      "Requirement already satisfied: cryptography in /sgoinfre/goinfre/Perso/aslusarc/anaconda3/lib/python3.6/site-packages (from -r ../requirements.txt (line 12)) (2.2.2)\n",
      "Requirement already satisfied: cycler in /sgoinfre/goinfre/Perso/aslusarc/anaconda3/lib/python3.6/site-packages (from -r ../requirements.txt (line 13)) (0.10.0)\n",
      "Requirement already satisfied: decorator in /sgoinfre/goinfre/Perso/aslusarc/anaconda3/lib/python3.6/site-packages (from -r ../requirements.txt (line 14)) (4.3.0)\n",
      "Requirement already satisfied: defusedxml in /sgoinfre/goinfre/Perso/aslusarc/anaconda3/lib/python3.6/site-packages (from -r ../requirements.txt (line 15)) (0.6.0)\n",
      "Requirement already satisfied: entrypoints in /sgoinfre/goinfre/Perso/aslusarc/anaconda3/lib/python3.6/site-packages (from -r ../requirements.txt (line 16)) (0.2.3)\n",
      "Requirement already satisfied: gast in /sgoinfre/goinfre/Perso/aslusarc/anaconda3/lib/python3.6/site-packages (from -r ../requirements.txt (line 17)) (0.2.2)\n",
      "Requirement already satisfied: grpcio in /sgoinfre/goinfre/Perso/aslusarc/anaconda3/lib/python3.6/site-packages (from -r ../requirements.txt (line 18)) (1.20.1)\n",
      "Requirement already satisfied: h5py in /sgoinfre/goinfre/Perso/aslusarc/anaconda3/lib/python3.6/site-packages (from -r ../requirements.txt (line 19)) (2.7.1)\n",
      "Requirement already satisfied: idna in /sgoinfre/goinfre/Perso/aslusarc/anaconda3/lib/python3.6/site-packages (from -r ../requirements.txt (line 20)) (2.7)\n",
      "Requirement already satisfied: ipykernel in /sgoinfre/goinfre/Perso/aslusarc/anaconda3/lib/python3.6/site-packages (from -r ../requirements.txt (line 21)) (4.8.2)\n",
      "Requirement already satisfied: ipython in /sgoinfre/goinfre/Perso/aslusarc/anaconda3/lib/python3.6/site-packages (from -r ../requirements.txt (line 22)) (6.4.0)\n",
      "Requirement already satisfied: ipython-genutils in /sgoinfre/goinfre/Perso/aslusarc/anaconda3/lib/python3.6/site-packages (from -r ../requirements.txt (line 23)) (0.2.0)\n",
      "Requirement already satisfied: ipywidgets in /sgoinfre/goinfre/Perso/aslusarc/anaconda3/lib/python3.6/site-packages (from -r ../requirements.txt (line 24)) (7.2.1)\n",
      "Requirement already satisfied: jedi in /sgoinfre/goinfre/Perso/aslusarc/anaconda3/lib/python3.6/site-packages (from -r ../requirements.txt (line 25)) (0.12.0)\n",
      "Requirement already satisfied: Jinja2 in /sgoinfre/goinfre/Perso/aslusarc/anaconda3/lib/python3.6/site-packages (from -r ../requirements.txt (line 26)) (2.10)\n",
      "Requirement already satisfied: jsonschema in /sgoinfre/goinfre/Perso/aslusarc/anaconda3/lib/python3.6/site-packages (from -r ../requirements.txt (line 27)) (2.6.0)\n",
      "Requirement already satisfied: jupyter in /sgoinfre/goinfre/Perso/aslusarc/anaconda3/lib/python3.6/site-packages (from -r ../requirements.txt (line 28)) (1.0.0)\n",
      "Requirement already satisfied: jupyter-client in /sgoinfre/goinfre/Perso/aslusarc/anaconda3/lib/python3.6/site-packages (from -r ../requirements.txt (line 29)) (5.2.3)\n",
      "Requirement already satisfied: jupyter-console in /sgoinfre/goinfre/Perso/aslusarc/anaconda3/lib/python3.6/site-packages (from -r ../requirements.txt (line 30)) (5.2.0)\n",
      "Requirement already satisfied: jupyter-core in /sgoinfre/goinfre/Perso/aslusarc/anaconda3/lib/python3.6/site-packages (from -r ../requirements.txt (line 31)) (4.4.0)\n",
      "Requirement already satisfied: Keras in /sgoinfre/goinfre/Perso/aslusarc/anaconda3/lib/python3.6/site-packages (from -r ../requirements.txt (line 32)) (2.2.4)\n",
      "Requirement already satisfied: Keras-Applications in /sgoinfre/goinfre/Perso/aslusarc/anaconda3/lib/python3.6/site-packages (from -r ../requirements.txt (line 33)) (1.0.7)\n",
      "Requirement already satisfied: Keras-Preprocessing in /sgoinfre/goinfre/Perso/aslusarc/anaconda3/lib/python3.6/site-packages (from -r ../requirements.txt (line 34)) (1.0.9)\n",
      "Requirement already satisfied: kiwisolver in /sgoinfre/goinfre/Perso/aslusarc/anaconda3/lib/python3.6/site-packages (from -r ../requirements.txt (line 35)) (1.0.1)\n",
      "Requirement already satisfied: Markdown in /sgoinfre/goinfre/Perso/aslusarc/anaconda3/lib/python3.6/site-packages (from -r ../requirements.txt (line 36)) (3.1)\n",
      "Requirement already satisfied: MarkupSafe in /sgoinfre/goinfre/Perso/aslusarc/anaconda3/lib/python3.6/site-packages (from -r ../requirements.txt (line 37)) (1.0)\n",
      "Requirement already satisfied: matplotlib in /sgoinfre/goinfre/Perso/aslusarc/anaconda3/lib/python3.6/site-packages (from -r ../requirements.txt (line 38)) (2.2.2)\n",
      "Requirement already satisfied: mistune in /sgoinfre/goinfre/Perso/aslusarc/anaconda3/lib/python3.6/site-packages (from -r ../requirements.txt (line 39)) (0.8.3)\n",
      "Requirement already satisfied: mock in /sgoinfre/goinfre/Perso/aslusarc/anaconda3/lib/python3.6/site-packages (from -r ../requirements.txt (line 40)) (3.0.2)\n",
      "Requirement already satisfied: nbconvert in /sgoinfre/goinfre/Perso/aslusarc/anaconda3/lib/python3.6/site-packages (from -r ../requirements.txt (line 41)) (5.3.1)\n",
      "Requirement already satisfied: nbformat in /sgoinfre/goinfre/Perso/aslusarc/anaconda3/lib/python3.6/site-packages (from -r ../requirements.txt (line 42)) (4.4.0)\n",
      "Requirement already satisfied: notebook in /sgoinfre/goinfre/Perso/aslusarc/anaconda3/lib/python3.6/site-packages (from -r ../requirements.txt (line 43)) (5.5.0)\n",
      "Requirement already satisfied: numpy in /sgoinfre/goinfre/Perso/aslusarc/anaconda3/lib/python3.6/site-packages (from -r ../requirements.txt (line 44)) (1.16.3)\n",
      "Requirement already satisfied: opencv-python in /sgoinfre/goinfre/Perso/aslusarc/anaconda3/lib/python3.6/site-packages (from -r ../requirements.txt (line 45)) (4.1.0.25)\n",
      "Requirement already satisfied: pandas in /sgoinfre/goinfre/Perso/aslusarc/anaconda3/lib/python3.6/site-packages (from -r ../requirements.txt (line 46)) (0.23.0)\n",
      "Requirement already satisfied: pandocfilters in /sgoinfre/goinfre/Perso/aslusarc/anaconda3/lib/python3.6/site-packages (from -r ../requirements.txt (line 47)) (1.4.2)\n",
      "Requirement already satisfied: parso in /sgoinfre/goinfre/Perso/aslusarc/anaconda3/lib/python3.6/site-packages (from -r ../requirements.txt (line 48)) (0.2.0)\n",
      "Requirement already satisfied: pexpect in /sgoinfre/goinfre/Perso/aslusarc/anaconda3/lib/python3.6/site-packages (from -r ../requirements.txt (line 49)) (4.5.0)\n",
      "Requirement already satisfied: pickleshare in /sgoinfre/goinfre/Perso/aslusarc/anaconda3/lib/python3.6/site-packages (from -r ../requirements.txt (line 50)) (0.7.4)\n",
      "Requirement already satisfied: pip in /sgoinfre/goinfre/Perso/aslusarc/anaconda3/lib/python3.6/site-packages (from -r ../requirements.txt (line 51)) (18.1)\n",
      "Requirement already satisfied: prometheus-client in /sgoinfre/goinfre/Perso/aslusarc/anaconda3/lib/python3.6/site-packages (from -r ../requirements.txt (line 52)) (0.6.0)\n",
      "Requirement already satisfied: prompt-toolkit in /sgoinfre/goinfre/Perso/aslusarc/anaconda3/lib/python3.6/site-packages (from -r ../requirements.txt (line 53)) (1.0.15)\n"
     ]
    },
    {
     "name": "stdout",
     "output_type": "stream",
     "text": [
      "Requirement already satisfied: protobuf in /sgoinfre/goinfre/Perso/aslusarc/anaconda3/lib/python3.6/site-packages (from -r ../requirements.txt (line 54)) (3.7.1)\n",
      "Requirement already satisfied: ptyprocess in /sgoinfre/goinfre/Perso/aslusarc/anaconda3/lib/python3.6/site-packages (from -r ../requirements.txt (line 55)) (0.5.2)\n",
      "Requirement already satisfied: pycosat in /sgoinfre/goinfre/Perso/aslusarc/anaconda3/lib/python3.6/site-packages (from -r ../requirements.txt (line 56)) (0.6.3)\n",
      "Requirement already satisfied: pycparser in /sgoinfre/goinfre/Perso/aslusarc/anaconda3/lib/python3.6/site-packages (from -r ../requirements.txt (line 57)) (2.18)\n",
      "Requirement already satisfied: Pygments in /sgoinfre/goinfre/Perso/aslusarc/anaconda3/lib/python3.6/site-packages (from -r ../requirements.txt (line 58)) (2.2.0)\n",
      "Requirement already satisfied: pyOpenSSL in /sgoinfre/goinfre/Perso/aslusarc/anaconda3/lib/python3.6/site-packages (from -r ../requirements.txt (line 59)) (18.0.0)\n",
      "Requirement already satisfied: pyparsing in /sgoinfre/goinfre/Perso/aslusarc/anaconda3/lib/python3.6/site-packages (from -r ../requirements.txt (line 60)) (2.2.0)\n",
      "Requirement already satisfied: pyrsistent in /sgoinfre/goinfre/Perso/aslusarc/anaconda3/lib/python3.6/site-packages (from -r ../requirements.txt (line 61)) (0.15.1)\n",
      "Requirement already satisfied: PySocks in /sgoinfre/goinfre/Perso/aslusarc/anaconda3/lib/python3.6/site-packages (from -r ../requirements.txt (line 62)) (1.6.8)\n",
      "Requirement already satisfied: python-dateutil in /sgoinfre/goinfre/Perso/aslusarc/anaconda3/lib/python3.6/site-packages (from -r ../requirements.txt (line 63)) (2.7.3)\n",
      "Requirement already satisfied: pytz in /sgoinfre/goinfre/Perso/aslusarc/anaconda3/lib/python3.6/site-packages (from -r ../requirements.txt (line 64)) (2018.5)\n",
      "Requirement already satisfied: PyYAML in /sgoinfre/goinfre/Perso/aslusarc/anaconda3/lib/python3.6/site-packages (from -r ../requirements.txt (line 65)) (3.12)\n",
      "Requirement already satisfied: pyzmq in /sgoinfre/goinfre/Perso/aslusarc/anaconda3/lib/python3.6/site-packages (from -r ../requirements.txt (line 66)) (17.0.0)\n",
      "Requirement already satisfied: qtconsole in /sgoinfre/goinfre/Perso/aslusarc/anaconda3/lib/python3.6/site-packages (from -r ../requirements.txt (line 67)) (4.3.1)\n",
      "Requirement already satisfied: requests in /sgoinfre/goinfre/Perso/aslusarc/anaconda3/lib/python3.6/site-packages (from -r ../requirements.txt (line 68)) (2.19.1)\n",
      "Requirement already satisfied: ruamel-yaml in /sgoinfre/goinfre/Perso/aslusarc/anaconda3/lib/python3.6/site-packages (from -r ../requirements.txt (line 69)) (0.15.35)\n",
      "Requirement already satisfied: scipy in /sgoinfre/goinfre/Perso/aslusarc/anaconda3/lib/python3.6/site-packages (from -r ../requirements.txt (line 70)) (1.1.0)\n",
      "Requirement already satisfied: Send2Trash in /sgoinfre/goinfre/Perso/aslusarc/anaconda3/lib/python3.6/site-packages (from -r ../requirements.txt (line 71)) (1.5.0)\n",
      "Requirement already satisfied: setuptools in /sgoinfre/goinfre/Perso/aslusarc/anaconda3/lib/python3.6/site-packages (from -r ../requirements.txt (line 72)) (39.1.0)\n",
      "Requirement already satisfied: six in /sgoinfre/goinfre/Perso/aslusarc/anaconda3/lib/python3.6/site-packages (from -r ../requirements.txt (line 73)) (1.11.0)\n",
      "Requirement already satisfied: tensorboard in /sgoinfre/goinfre/Perso/aslusarc/anaconda3/lib/python3.6/site-packages (from -r ../requirements.txt (line 74)) (1.13.1)\n",
      "Requirement already satisfied: tensorflow in /sgoinfre/goinfre/Perso/aslusarc/anaconda3/lib/python3.6/site-packages (from -r ../requirements.txt (line 75)) (1.5.0)\n",
      "Requirement already satisfied: tensorflow-estimator in /sgoinfre/goinfre/Perso/aslusarc/anaconda3/lib/python3.6/site-packages (from -r ../requirements.txt (line 76)) (1.13.0)\n",
      "Requirement already satisfied: termcolor in /sgoinfre/goinfre/Perso/aslusarc/anaconda3/lib/python3.6/site-packages (from -r ../requirements.txt (line 77)) (1.1.0)\n",
      "Requirement already satisfied: terminado in /sgoinfre/goinfre/Perso/aslusarc/anaconda3/lib/python3.6/site-packages (from -r ../requirements.txt (line 78)) (0.8.1)\n",
      "Requirement already satisfied: testpath in /sgoinfre/goinfre/Perso/aslusarc/anaconda3/lib/python3.6/site-packages (from -r ../requirements.txt (line 79)) (0.3.1)\n",
      "Requirement already satisfied: tornado in /sgoinfre/goinfre/Perso/aslusarc/anaconda3/lib/python3.6/site-packages (from -r ../requirements.txt (line 80)) (5.0.2)\n",
      "Requirement already satisfied: traitlets in /sgoinfre/goinfre/Perso/aslusarc/anaconda3/lib/python3.6/site-packages (from -r ../requirements.txt (line 81)) (4.3.2)\n",
      "Requirement already satisfied: urllib3 in /sgoinfre/goinfre/Perso/aslusarc/anaconda3/lib/python3.6/site-packages (from -r ../requirements.txt (line 82)) (1.23)\n",
      "Requirement already satisfied: wcwidth in /sgoinfre/goinfre/Perso/aslusarc/anaconda3/lib/python3.6/site-packages (from -r ../requirements.txt (line 83)) (0.1.7)\n",
      "Requirement already satisfied: webencodings in /sgoinfre/goinfre/Perso/aslusarc/anaconda3/lib/python3.6/site-packages (from -r ../requirements.txt (line 84)) (0.5.1)\n",
      "Requirement already satisfied: Werkzeug in /sgoinfre/goinfre/Perso/aslusarc/anaconda3/lib/python3.6/site-packages (from -r ../requirements.txt (line 85)) (0.14.1)\n",
      "Requirement already satisfied: wheel in /sgoinfre/goinfre/Perso/aslusarc/anaconda3/lib/python3.6/site-packages (from -r ../requirements.txt (line 86)) (0.31.1)\n",
      "Requirement already satisfied: widgetsnbextension in /sgoinfre/goinfre/Perso/aslusarc/anaconda3/lib/python3.6/site-packages (from -r ../requirements.txt (line 87)) (3.2.1)\n",
      "Requirement already satisfied: html5lib!=0.9999,!=0.99999,<0.99999999,>=0.999 in /sgoinfre/goinfre/Perso/aslusarc/anaconda3/lib/python3.6/site-packages (from bleach->-r ../requirements.txt (line 7)) (0.9999999)\n",
      "Requirement already satisfied: simplegeneric>0.8 in /sgoinfre/goinfre/Perso/aslusarc/anaconda3/lib/python3.6/site-packages (from ipython->-r ../requirements.txt (line 22)) (0.8.1)\n",
      "Requirement already satisfied: tensorflow-tensorboard<1.6.0,>=1.5.0 in /sgoinfre/goinfre/Perso/aslusarc/anaconda3/lib/python3.6/site-packages (from tensorflow->-r ../requirements.txt (line 75)) (1.5.1)\n",
      "\u001b[33mYou are using pip version 18.1, however version 19.1 is available.\n",
      "You should consider upgrading via the 'pip install --upgrade pip' command.\u001b[0m\n"
     ]
    }
   ],
   "source": [
    "!pip install -r ../requirements.txt"
   ]
  },
  {
   "cell_type": "code",
   "execution_count": 4,
   "metadata": {},
   "outputs": [
    {
     "name": "stdout",
     "output_type": "stream",
     "text": [
      "Requirement already up-to-date: numpy in /sgoinfre/goinfre/Perso/aslusarc/anaconda3/lib/python3.6/site-packages (1.16.3)\n",
      "\u001b[33mYou are using pip version 18.1, however version 19.1 is available.\n",
      "You should consider upgrading via the 'pip install --upgrade pip' command.\u001b[0m\n"
     ]
    }
   ],
   "source": [
    "!pip install --upgrade numpy"
   ]
  },
  {
   "cell_type": "code",
   "execution_count": 6,
   "metadata": {},
   "outputs": [
    {
     "name": "stdout",
     "output_type": "stream",
     "text": [
      "Collecting opencv-python==4.1.0.25\n",
      "  Using cached https://files.pythonhosted.org/packages/71/29/79695ff18de0a5943831fdbddaeb2d746ea1636370972dfd9cc59a14ba14/opencv_python-4.1.0.25-cp36-cp36m-macosx_10_7_x86_64.macosx_10_9_intel.macosx_10_9_x86_64.macosx_10_10_intel.macosx_10_10_x86_64.whl\n",
      "Requirement already satisfied: numpy>=1.11.3 in /sgoinfre/goinfre/Perso/aslusarc/anaconda3/lib/python3.6/site-packages (from opencv-python==4.1.0.25) (1.16.3)\n",
      "Installing collected packages: opencv-python\n",
      "  Found existing installation: opencv-python 3.3.0.10\n",
      "    Uninstalling opencv-python-3.3.0.10:\n",
      "      Successfully uninstalled opencv-python-3.3.0.10\n",
      "Successfully installed opencv-python-4.1.0.25\n",
      "\u001b[33mYou are using pip version 18.1, however version 19.1 is available.\n",
      "You should consider upgrading via the 'pip install --upgrade pip' command.\u001b[0m\n"
     ]
    }
   ],
   "source": [
    "#!pip install opencv-python==3.3.0.10\n",
    "!pip install opencv-python==4.1.0.25"
   ]
  },
  {
   "cell_type": "code",
   "execution_count": 7,
   "metadata": {},
   "outputs": [
    {
     "name": "stderr",
     "output_type": "stream",
     "text": [
      "/sgoinfre/goinfre/Perso/aslusarc/anaconda3/lib/python3.6/site-packages/h5py/__init__.py:36: FutureWarning: Conversion of the second argument of issubdtype from `float` to `np.floating` is deprecated. In future, it will be treated as `np.float64 == np.dtype(float).type`.\n",
      "  from ._conv import register_converters as _register_converters\n",
      "Using TensorFlow backend.\n"
     ]
    },
    {
     "name": "stdout",
     "output_type": "stream",
     "text": [
      "fini\n"
     ]
    }
   ],
   "source": [
    "import keras\n",
    "import pandas as pd\n",
    "from glob import glob                                # Parcourir dossier de dataset\n",
    "import matplotlib.pyplot as plt\n",
    "import cv2                                           # traitement des images du dataset\n",
    "from keras.datasets import mnist                     # Importe le dataset de mnist\n",
    "from keras.utils import to_categorical               # pour modifier les labels\n",
    "from keras.models import Sequential, load_model      # type de modele\n",
    "from keras.layers import Dense, Flatten              # Fully Connected Layers\n",
    "from keras.layers import Conv2D, MaxPooling2D        # Convolutional layers + Maxpooling layers\n",
    "from keras.optimizers import Adam\n",
    "from keras.losses import categorical_crossentropy    # Loss function\n",
    "\n",
    "# from keras.callbacks import TensorBoard\n",
    "\n",
    "import h5py                                          # Pour pouvoir enregistrer son modele en .h5\n",
    "print(\"fini\")"
   ]
  },
  {
   "cell_type": "markdown",
   "metadata": {},
   "source": [
    "# Detection of handwritten digits with MNIST\n",
    "\n",
    "MNIST est un exemple très souvent utilisé pour commencer avec les CNN, son dataset existe sur keras et peut être directement importé avec la fonction **load_data( )**\n",
    "\n",
    "Note :\n",
    "- Le dataset de MNIST a 60 000 exemples d'entrainement et 10 000 exemples de training\n",
    "- Le format de chaque image est de 28x28 pixels"
   ]
  },
  {
   "cell_type": "markdown",
   "metadata": {},
   "source": [
    "## STEP 1 : Load data"
   ]
  },
  {
   "cell_type": "code",
   "execution_count": 8,
   "metadata": {},
   "outputs": [],
   "source": [
    "# Les données sont déjà séparées en training set et testing set sur keras\n",
    "\n",
    "(x_train, y_train), (x_test, y_test) = mnist.load_data()"
   ]
  },
  {
   "cell_type": "markdown",
   "metadata": {},
   "source": [
    "Vous pouvez voir à quoi ressemble votre dataset avec un print. A noter que votre x_train est une liste [ ] de 60 000 exemples et que votre x_test est une liste de 10 000 exemples"
   ]
  },
  {
   "cell_type": "code",
   "execution_count": null,
   "metadata": {},
   "outputs": [],
   "source": [
    "#df = pd.DataFrame(x_train, index = range(0,60000), columns= range(0,28))"
   ]
  },
  {
   "cell_type": "markdown",
   "metadata": {},
   "source": [
    "- Chaque exemple se compose de 28 listes de 28 valeurs (car 28x28 pixels), il y a donc 28x28 = 784 valeurs, une par pixel\n",
    "- Chaque pixel a une valeur comprise entre 0 et 255, car un int = 8 octets donc 2^8 = 256 valeurs possibles, mais on commence à zéro donc 0-255\n",
    "- Les labels sont une valeur unique comprise entre 0 et 9 et correspondent au digit de l'image en question  \n",
    "  \n",
    "Vous pouvez verifier la shape de votre dataset (x_train, x_test, y_train et y_test)"
   ]
  },
  {
   "cell_type": "code",
   "execution_count": 9,
   "metadata": {},
   "outputs": [
    {
     "name": "stdout",
     "output_type": "stream",
     "text": [
      "(60000, 28, 28)\n",
      "(60000,)\n",
      "(10000, 28, 28)\n",
      "(10000,)\n"
     ]
    }
   ],
   "source": [
    "print(x_train.shape)\n",
    "print(y_train.shape)\n",
    "print(x_test.shape)\n",
    "print(y_test.shape)"
   ]
  },
  {
   "cell_type": "code",
   "execution_count": 10,
   "metadata": {},
   "outputs": [
    {
     "name": "stdout",
     "output_type": "stream",
     "text": [
      "<class 'numpy.ndarray'>\n",
      "<class 'numpy.ndarray'>\n",
      "<class 'numpy.ndarray'>\n",
      "<class 'numpy.uint8'>\n",
      "array([  0,   0,   0,   0,   0,   0,  85, 252, 249, 146,  48,  29,  85,\n",
      "       178, 225, 253, 223, 167,  56,   0,   0,   0,   0,   0,   0,   0,\n",
      "         0,   0], dtype=uint8)\n"
     ]
    }
   ],
   "source": [
    "from pprint import pprint\n",
    "print(type(x_train))\n",
    "print(type(x_train[0]))\n",
    "print(type(x_train[0][0]))\n",
    "print(type(x_train[0][0][0]))\n",
    "pprint(x_train[1][20])"
   ]
  },
  {
   "cell_type": "markdown",
   "metadata": {},
   "source": [
    "## STEP 2 : Prepare Data\n",
    "\n",
    "\n",
    "Ensuite, une fois les données importées, nous devons les préparer afin qu'elles puissent être données à notre modèle  \n",
    "Dans un premier temps, nous allons ajouter une dimension à la fin de nos x_train et x_test pour préciser le nombre de canaux que nous utiliserons grâce à la fonction **.reshape( )**\n",
    "\n",
    "- 1 pour Noir et Blanc\n",
    "- 3 pour RGB\n",
    "- L pour nuances de gris\n",
    "\n",
    "Pour cet exemple, nous nous contenterons d'une image en N&B, donc la valeur de notre dimension supplémentaire sera égale à 1"
   ]
  },
  {
   "cell_type": "code",
   "execution_count": null,
   "metadata": {},
   "outputs": [],
   "source": [
    "x_train = \n",
    "x_test = "
   ]
  },
  {
   "cell_type": "markdown",
   "metadata": {},
   "source": [
    "Nous allons ensuite normaliser notre dataset afin que les valeurs de nos pixels soient comprises entre 0 et 1 plutôt qu'entre 0 et 255. Cela facilitera les calculs pour la machine.\n",
    "\n",
    "Pour ce faire, il faudra d'abord \"recaster\" nos variables *x_train* et *x_test* en tant que float."
   ]
  },
  {
   "cell_type": "code",
   "execution_count": null,
   "metadata": {},
   "outputs": [],
   "source": [
    "# Recast\n",
    "\n",
    "x_train = \n",
    "x_test = \n",
    "\n",
    "# Normalize\n",
    "\n",
    "x_train /= \n",
    "x_test /= "
   ]
  },
  {
   "cell_type": "markdown",
   "metadata": {},
   "source": [
    "Maintenant qu'on a bien modifié nos training et testing sets, il nous reste à modifier nos labels de façon à ce que la machine puisse mieux les comprendre.\n",
    "\n",
    "Pour l'instant, notre y_train est une liste de 60 000 valeurs entre 0 et 9, qui sont les labels des images correspondantes. \n",
    "\n",
    "*y_train[8] = label de la 9ème image de notre dataset, x_train[8]*\n",
    "\n",
    "Plutôt que d'avoir un label qui soit une valeur comprise entre 0 et 9, on va préférer avoir un label qui a la forme d'un one-hot vecteur. C'est à dire un vecteur composé de 10 valeurs (0 ou 1), avec un 1 a la position correspondante au label, et des 0 partout ailleurs.\n",
    "\n",
    "*Exemple : on veut transformer un* **y_train[8] = 1** en **y_train[8] = [0, 1, 0, 0, 0, 0, 0, 0, 0, 0]**\n",
    "\n",
    "On va utiliser une fonction de keras appelée **to_categorical(a, b)** qui prend en paramètre :\n",
    "- a = la liste qu'on cherche à changer\n",
    "- b = le nombre de sorties que nous avons\n",
    "\n",
    "Note : Cette fonction saura automatiquement où placer le 1 dans votre vecteur. Vous devez donc juste lui donner le nombre de catégories possibles que notre modèle pourra avoir."
   ]
  },
  {
   "cell_type": "code",
   "execution_count": null,
   "metadata": {},
   "outputs": [],
   "source": [
    "y_train = \n",
    "y_test = "
   ]
  },
  {
   "cell_type": "markdown",
   "metadata": {},
   "source": [
    "## STEP 3 : Create Model\n",
    "\n",
    "Maintenant que nos données sont prêtes, nous allons pouvoir créer notre modèle. Keras a énormément de fonctions qui nous permettent d'éviter d'avoir à recoder nos fonctions de loss ou de backpropagation, pour l'objectif de cet exercice, nous allons donc les utiliser :)\n",
    "\n",
    "Nous allons commencer par définir une variable en tant que modèle en utilisant la méthode Sequential de keras. Utiliser cette méthode nous facilitera le travail pour ajouter nos couches et train notre modèle. Pour plus d'infos vous pouvez checker la doc\n",
    "\n",
    "https://keras.io/models/sequential/\n",
    "\n",
    "Nous allons ensuite pouvoir y ajouter les couches dont nous avons besoin. Rappelez vous l'ordre des couches (D'abord les couches de conv, puis les couches de Maxpool, puis les Fully Connected)\n",
    "\n",
    "Pour ajouter une couche, vous pouvez utiliser la fonction **.add( )**\n",
    "\n",
    "\n",
    "Pour chaque couche de convolution, vous devrez préciser :  \n",
    "*Attention ! Pour la première couche, n'oubliez pas qu'il faut préciser l'* **input_shape**\n",
    "- Le nombre de neurones\n",
    "- La taille de kernel si couche conv\n",
    "- La taille de Pool si couche MaxPool\n",
    "- La fonction d'activation (nous utiliserons **'relu'**)\n",
    "\n",
    "Pour chaque couche de MaxPooling, vous devrez préciser :\n",
    "- La taille de Pool si couche MaxPool\n",
    "\n",
    "Pour chaque couche de Fully Connected, vous devrez préciser :\n",
    "- Le nombre de neurones\n",
    "- La fonction d'activation (nous utiliserons **'relu'**)\n",
    "*Attention ! Pour la dernière couche de FC, n'oubliez pas qu'il faut préciser le* **nombre de sorties et non le nombre de neurones** *et que votre fonction d'activation est* **'softmax'** *et non* **'relu'**\n",
    "\n",
    "Voici la doc qui vous aidera à mieux comprendre Sequential https://keras.io/getting-started/sequential-model-guide/\n",
    "\n",
    "Vous pouvez utiliser la fonction **.summary( )** pour voir les détails de vos couches"
   ]
  },
  {
   "cell_type": "code",
   "execution_count": null,
   "metadata": {},
   "outputs": [],
   "source": [
    "# Define model\n",
    "model = Sequential()\n",
    "\n",
    "# Ajouter les couches de convolution\n",
    "\n",
    "\n",
    "\n",
    "# Ajouter les couches de MaxPooling\n",
    "\n",
    "\n",
    "\n",
    "# Alterner entre couche de convolution et maxpooling\n",
    "\n",
    "\n",
    "\n",
    "# Applatir le dataset en un seul array\n",
    "model.add(Flatten())\n",
    "\n",
    "\n",
    "\n",
    "# Ajouter les couches Fully Connected\n",
    "\n",
    "\n",
    "\n",
    "# Ajouter la dernière couche FC, mais avec cette fois le nombre de sorties au lieu du nombre de neurones et 'softmax' comme activation\n",
    "\n",
    "\n",
    "# Compilation du modèle avant l'entrainement\n",
    "model.compile(loss='categorical_crossentropy', \n",
    "              optimizer=Adam(), \n",
    "              metrics=['accuracy'])\n",
    "\n",
    "# Recap de votre modèle, avec l'output shape à chaque couche\n",
    "model.summary()"
   ]
  },
  {
   "cell_type": "markdown",
   "metadata": {},
   "source": [
    "## STEP 4 : Train Model and save it\n",
    "\n",
    "Nous devons maintenant entrainer notre modèle afin de voir ses performances. Pour cela, vous pouvez utiliser la fonction **.fit( )** qui prend en paramètres :\n",
    "- x_train\n",
    "- y_train,\n",
    "- votre taille de batch (favorisez les puissances de 2)\n",
    "- votre nombre d'epochs\n",
    "- votre proportion de validation (par ex 0.2 pour 20%)"
   ]
  },
  {
   "cell_type": "code",
   "execution_count": null,
   "metadata": {},
   "outputs": [],
   "source": [
    "training = model.fit(...)\n",
    "\n",
    "# On évalue ensuite notre modèle sur notre testing set\n",
    "score = model.evaluate(x_test, y_test, batch_size=128)\n",
    "print('score = ', score)\n",
    "\n",
    "# Save le modèle\n",
    "model.save(\"votre_model.h5\")"
   ]
  },
  {
   "cell_type": "markdown",
   "metadata": {},
   "source": [
    "Vous pouvez voir l'évolution de vos loss et accuracy grâce à cette fonction (Kdo)"
   ]
  },
  {
   "cell_type": "code",
   "execution_count": null,
   "metadata": {},
   "outputs": [],
   "source": [
    "historydf = pd.DataFrame(training.history, index=training.epoch)\n",
    "historydf.plot(ylim=(0,1))"
   ]
  },
  {
   "cell_type": "markdown",
   "metadata": {},
   "source": [
    "## STEP 5 : Testing our model\n",
    "\n",
    "Maintenant que nous avons un modèle, nous allons pouvoir le tester. Pour cela, nous allons créer nos propres images de digits en blanc sur noir en allant sur ce site : https://www.piskelapp.com/\n",
    "- Cliquer sur *Create Sprite* en haut à droite\n",
    "- Dans les paramètres, resize l'image à 28x28\n",
    "- N'oubliez pas de faire un **fond noir**\n",
    "- Dessinez le digit que vous voulez tester **en blanc** (n'hésitez pas à en faire plusieurs)\n",
    "- Exportez votre image (icone de la montagne)\n",
    "- Vérifiez que vous êtes bien sous l'onglet PNG, et cliquez sur *Download Selected frame export*\n",
    "\n",
    "Ensuite, une fois toutes vos images téléchargées, renommez les avec leur label correspondant (ce sera plus simple de vérifier le résultat), ex : image de 0 sera nommée 0.png\n",
    "  \n",
    "Mettez toutes vos images dans le même dossier que votre jupyter notebook\n",
    "  \n",
    "Pour aller chercher les images à tester, nous allons utiliser un module appelé **glob** qui se situe déjà dans vos imports.\n",
    "  \n",
    "Il faudra ensuite faire les mêmes modifications que nous avons faites à notre dataset dans le *STEP 2 : Prepare dataset* (reshape, normalize)"
   ]
  },
  {
   "cell_type": "code",
   "execution_count": null,
   "metadata": {},
   "outputs": [],
   "source": [
    "# Recupérer toutes nos images\n",
    "all_images = glob('*.png')\n",
    "\n",
    "model = load_model('votre_model.h5')\n",
    "\n",
    "# Loop in all_images to process each image\n",
    "for image in all_images :\n",
    "    # Open the image using cv2\n",
    "    img = cv2.imread(image, 0)\n",
    "    \n",
    "    # Print the image to see (will only print the last one of the loop)\n",
    "    #plt.imshow(img)\n",
    "    \n",
    "    # Reshape the image, adding one dimension at the end\n",
    "    img = img.reshape(1, 28, 28, 1)\n",
    "    \n",
    "    # Recast and normalize\n",
    "    img = img.astype('float32')\n",
    "    img /= 255\n",
    "    \n",
    "    # Get prediction\n",
    "    prediction = model.predict(img)\n",
    "    \n",
    "    # Get highest value index\n",
    "    prediction = np.argmax(prediction)\n",
    "    \n",
    "    print('The prediction for ', image, 'is :', prediction)"
   ]
  }
 ],
 "metadata": {
  "kernelspec": {
   "display_name": "Python 3",
   "language": "python",
   "name": "python3"
  },
  "language_info": {
   "codemirror_mode": {
    "name": "ipython",
    "version": 3
   },
   "file_extension": ".py",
   "mimetype": "text/x-python",
   "name": "python",
   "nbconvert_exporter": "python",
   "pygments_lexer": "ipython3",
   "version": "3.6.5"
  }
 },
 "nbformat": 4,
 "nbformat_minor": 2
}
