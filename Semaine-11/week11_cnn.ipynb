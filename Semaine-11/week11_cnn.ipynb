{
 "cells": [
  {
   "cell_type": "code",
   "execution_count": 21,
   "metadata": {},
   "outputs": [
    {
     "name": "stdout",
     "output_type": "stream",
     "text": [
      "Requirement already satisfied: keras in /Users/Agnieszka/anaconda3/lib/python3.6/site-packages (2.2.4)\n",
      "Requirement already satisfied: tensorflow==1.5 in /Users/Agnieszka/anaconda3/lib/python3.6/site-packages (1.5.0)\n",
      "Requirement already satisfied: opencv-python in /Users/Agnieszka/anaconda3/lib/python3.6/site-packages (3.3.0.10)\n",
      "Requirement already satisfied: pyyaml in /Users/Agnieszka/anaconda3/lib/python3.6/site-packages (from keras) (3.12)\n",
      "Requirement already satisfied: numpy>=1.9.1 in /Users/Agnieszka/anaconda3/lib/python3.6/site-packages (from keras) (1.16.3)\n",
      "Requirement already satisfied: h5py in /Users/Agnieszka/anaconda3/lib/python3.6/site-packages (from keras) (2.7.1)\n",
      "Requirement already satisfied: six>=1.9.0 in /Users/Agnieszka/anaconda3/lib/python3.6/site-packages (from keras) (1.11.0)\n",
      "Requirement already satisfied: scipy>=0.14 in /Users/Agnieszka/anaconda3/lib/python3.6/site-packages (from keras) (1.0.0)\n",
      "Requirement already satisfied: keras-applications>=1.0.6 in /Users/Agnieszka/anaconda3/lib/python3.6/site-packages (from keras) (1.0.7)\n",
      "Requirement already satisfied: keras-preprocessing>=1.0.5 in /Users/Agnieszka/anaconda3/lib/python3.6/site-packages (from keras) (1.0.9)\n",
      "Requirement already satisfied: absl-py>=0.1.6 in /Users/Agnieszka/anaconda3/lib/python3.6/site-packages (from tensorflow==1.5) (0.7.1)\n",
      "Requirement already satisfied: tensorflow-tensorboard<1.6.0,>=1.5.0 in /Users/Agnieszka/anaconda3/lib/python3.6/site-packages (from tensorflow==1.5) (1.5.1)\n",
      "Requirement already satisfied: protobuf>=3.4.0 in /Users/Agnieszka/anaconda3/lib/python3.6/site-packages (from tensorflow==1.5) (3.7.1)\n",
      "Requirement already satisfied: wheel>=0.26 in /Users/Agnieszka/anaconda3/lib/python3.6/site-packages (from tensorflow==1.5) (0.30.0)\n",
      "Requirement already satisfied: html5lib==0.9999999 in /Users/Agnieszka/anaconda3/lib/python3.6/site-packages (from tensorflow-tensorboard<1.6.0,>=1.5.0->tensorflow==1.5) (0.9999999)\n",
      "Requirement already satisfied: werkzeug>=0.11.10 in /Users/Agnieszka/anaconda3/lib/python3.6/site-packages (from tensorflow-tensorboard<1.6.0,>=1.5.0->tensorflow==1.5) (0.14.1)\n",
      "Requirement already satisfied: bleach==1.5.0 in /Users/Agnieszka/anaconda3/lib/python3.6/site-packages (from tensorflow-tensorboard<1.6.0,>=1.5.0->tensorflow==1.5) (1.5.0)\n",
      "Requirement already satisfied: markdown>=2.6.8 in /Users/Agnieszka/anaconda3/lib/python3.6/site-packages (from tensorflow-tensorboard<1.6.0,>=1.5.0->tensorflow==1.5) (3.1)\n",
      "Requirement already satisfied: setuptools in /Users/Agnieszka/anaconda3/lib/python3.6/site-packages (from protobuf>=3.4.0->tensorflow==1.5) (38.4.0)\n"
     ]
    }
   ],
   "source": [
    "!pip install keras tensorflow==1.5 opencv-python"
   ]
  },
  {
   "cell_type": "code",
   "execution_count": 22,
   "metadata": {},
   "outputs": [
    {
     "name": "stdout",
     "output_type": "stream",
     "text": [
      "Requirement already satisfied: absl-py in /Users/Agnieszka/anaconda3/lib/python3.6/site-packages (from -r /Users/Agnieszka/Downloads/requirements.txt (line 1)) (0.7.1)\n",
      "Requirement already satisfied: appnope in /Users/Agnieszka/anaconda3/lib/python3.6/site-packages (from -r /Users/Agnieszka/Downloads/requirements.txt (line 2)) (0.1.0)\n",
      "Requirement already satisfied: asn1crypto in /Users/Agnieszka/anaconda3/lib/python3.6/site-packages (from -r /Users/Agnieszka/Downloads/requirements.txt (line 3)) (0.24.0)\n",
      "Requirement already satisfied: astor in /Users/Agnieszka/anaconda3/lib/python3.6/site-packages (from -r /Users/Agnieszka/Downloads/requirements.txt (line 4)) (0.7.1)\n",
      "Requirement already satisfied: attrs in /Users/Agnieszka/anaconda3/lib/python3.6/site-packages (from -r /Users/Agnieszka/Downloads/requirements.txt (line 5)) (17.4.0)\n",
      "Requirement already satisfied: backcall in /Users/Agnieszka/anaconda3/lib/python3.6/site-packages (from -r /Users/Agnieszka/Downloads/requirements.txt (line 6)) (0.1.0)\n",
      "Requirement already satisfied: bleach in /Users/Agnieszka/anaconda3/lib/python3.6/site-packages (from -r /Users/Agnieszka/Downloads/requirements.txt (line 7)) (1.5.0)\n",
      "Requirement already satisfied: certifi in /Users/Agnieszka/anaconda3/lib/python3.6/site-packages (from -r /Users/Agnieszka/Downloads/requirements.txt (line 8)) (2018.1.18)\n",
      "Requirement already satisfied: cffi in /Users/Agnieszka/anaconda3/lib/python3.6/site-packages (from -r /Users/Agnieszka/Downloads/requirements.txt (line 9)) (1.11.4)\n",
      "Requirement already satisfied: chardet in /Users/Agnieszka/anaconda3/lib/python3.6/site-packages (from -r /Users/Agnieszka/Downloads/requirements.txt (line 10)) (3.0.4)\n",
      "Requirement already satisfied: conda in /Users/Agnieszka/anaconda3/lib/python3.6/site-packages (from -r /Users/Agnieszka/Downloads/requirements.txt (line 11)) (4.4.10)\n",
      "Requirement already satisfied: cryptography in /Users/Agnieszka/anaconda3/lib/python3.6/site-packages (from -r /Users/Agnieszka/Downloads/requirements.txt (line 12)) (2.1.4)\n",
      "Requirement already satisfied: cycler in /Users/Agnieszka/anaconda3/lib/python3.6/site-packages (from -r /Users/Agnieszka/Downloads/requirements.txt (line 13)) (0.10.0)\n",
      "Requirement already satisfied: decorator in /Users/Agnieszka/anaconda3/lib/python3.6/site-packages (from -r /Users/Agnieszka/Downloads/requirements.txt (line 14)) (4.2.1)\n",
      "Requirement already satisfied: defusedxml in /Users/Agnieszka/anaconda3/lib/python3.6/site-packages (from -r /Users/Agnieszka/Downloads/requirements.txt (line 15)) (0.6.0)\n",
      "Requirement already satisfied: entrypoints in /Users/Agnieszka/anaconda3/lib/python3.6/site-packages (from -r /Users/Agnieszka/Downloads/requirements.txt (line 16)) (0.2.3)\n",
      "Requirement already satisfied: gast in /Users/Agnieszka/anaconda3/lib/python3.6/site-packages (from -r /Users/Agnieszka/Downloads/requirements.txt (line 17)) (0.2.2)\n",
      "Requirement already satisfied: grpcio in /Users/Agnieszka/anaconda3/lib/python3.6/site-packages (from -r /Users/Agnieszka/Downloads/requirements.txt (line 18)) (1.20.1)\n",
      "Requirement already satisfied: h5py in /Users/Agnieszka/anaconda3/lib/python3.6/site-packages (from -r /Users/Agnieszka/Downloads/requirements.txt (line 19)) (2.7.1)\n",
      "Requirement already satisfied: idna in /Users/Agnieszka/anaconda3/lib/python3.6/site-packages (from -r /Users/Agnieszka/Downloads/requirements.txt (line 20)) (2.6)\n",
      "Requirement already satisfied: ipykernel in /Users/Agnieszka/anaconda3/lib/python3.6/site-packages (from -r /Users/Agnieszka/Downloads/requirements.txt (line 21)) (4.8.0)\n",
      "Requirement already satisfied: ipython in /Users/Agnieszka/anaconda3/lib/python3.6/site-packages (from -r /Users/Agnieszka/Downloads/requirements.txt (line 22)) (6.2.1)\n",
      "Requirement already satisfied: ipython-genutils in /Users/Agnieszka/anaconda3/lib/python3.6/site-packages (from -r /Users/Agnieszka/Downloads/requirements.txt (line 23)) (0.2.0)\n",
      "Requirement already satisfied: ipywidgets in /Users/Agnieszka/anaconda3/lib/python3.6/site-packages (from -r /Users/Agnieszka/Downloads/requirements.txt (line 24)) (7.1.1)\n",
      "Requirement already satisfied: jedi in /Users/Agnieszka/anaconda3/lib/python3.6/site-packages (from -r /Users/Agnieszka/Downloads/requirements.txt (line 25)) (0.11.1)\n",
      "Requirement already satisfied: Jinja2 in /Users/Agnieszka/anaconda3/lib/python3.6/site-packages (from -r /Users/Agnieszka/Downloads/requirements.txt (line 26)) (2.10)\n",
      "Requirement already satisfied: jsonschema in /Users/Agnieszka/anaconda3/lib/python3.6/site-packages (from -r /Users/Agnieszka/Downloads/requirements.txt (line 27)) (2.6.0)\n",
      "Requirement already satisfied: jupyter in /Users/Agnieszka/anaconda3/lib/python3.6/site-packages (from -r /Users/Agnieszka/Downloads/requirements.txt (line 28)) (1.0.0)\n",
      "Requirement already satisfied: jupyter-client in /Users/Agnieszka/anaconda3/lib/python3.6/site-packages (from -r /Users/Agnieszka/Downloads/requirements.txt (line 29)) (5.2.2)\n",
      "Requirement already satisfied: jupyter-console in /Users/Agnieszka/anaconda3/lib/python3.6/site-packages (from -r /Users/Agnieszka/Downloads/requirements.txt (line 30)) (5.2.0)\n",
      "Requirement already satisfied: jupyter-core in /Users/Agnieszka/anaconda3/lib/python3.6/site-packages (from -r /Users/Agnieszka/Downloads/requirements.txt (line 31)) (4.4.0)\n",
      "Requirement already satisfied: Keras in /Users/Agnieszka/anaconda3/lib/python3.6/site-packages (from -r /Users/Agnieszka/Downloads/requirements.txt (line 32)) (2.2.4)\n",
      "Requirement already satisfied: Keras-Applications in /Users/Agnieszka/anaconda3/lib/python3.6/site-packages (from -r /Users/Agnieszka/Downloads/requirements.txt (line 33)) (1.0.7)\n",
      "Requirement already satisfied: Keras-Preprocessing in /Users/Agnieszka/anaconda3/lib/python3.6/site-packages (from -r /Users/Agnieszka/Downloads/requirements.txt (line 34)) (1.0.9)\n",
      "Requirement already satisfied: kiwisolver in /Users/Agnieszka/anaconda3/lib/python3.6/site-packages (from -r /Users/Agnieszka/Downloads/requirements.txt (line 35)) (1.1.0)\n",
      "Requirement already satisfied: Markdown in /Users/Agnieszka/anaconda3/lib/python3.6/site-packages (from -r /Users/Agnieszka/Downloads/requirements.txt (line 36)) (3.1)\n",
      "Requirement already satisfied: MarkupSafe in /Users/Agnieszka/anaconda3/lib/python3.6/site-packages (from -r /Users/Agnieszka/Downloads/requirements.txt (line 37)) (1.0)\n",
      "Requirement already satisfied: matplotlib in /Users/Agnieszka/anaconda3/lib/python3.6/site-packages (from -r /Users/Agnieszka/Downloads/requirements.txt (line 38)) (2.1.2)\n",
      "Requirement already satisfied: mistune in /Users/Agnieszka/anaconda3/lib/python3.6/site-packages (from -r /Users/Agnieszka/Downloads/requirements.txt (line 39)) (0.8.3)\n",
      "Requirement already satisfied: mock in /Users/Agnieszka/anaconda3/lib/python3.6/site-packages (from -r /Users/Agnieszka/Downloads/requirements.txt (line 40)) (3.0.2)\n",
      "Requirement already satisfied: nbconvert in /Users/Agnieszka/anaconda3/lib/python3.6/site-packages (from -r /Users/Agnieszka/Downloads/requirements.txt (line 41)) (5.3.1)\n",
      "Requirement already satisfied: nbformat in /Users/Agnieszka/anaconda3/lib/python3.6/site-packages (from -r /Users/Agnieszka/Downloads/requirements.txt (line 42)) (4.4.0)\n",
      "Requirement already satisfied: notebook in /Users/Agnieszka/anaconda3/lib/python3.6/site-packages (from -r /Users/Agnieszka/Downloads/requirements.txt (line 43)) (5.4.0)\n",
      "Requirement already satisfied: numpy in /Users/Agnieszka/anaconda3/lib/python3.6/site-packages (from -r /Users/Agnieszka/Downloads/requirements.txt (line 44)) (1.16.3)\n",
      "Requirement already satisfied: opencv-python in /Users/Agnieszka/anaconda3/lib/python3.6/site-packages (from -r /Users/Agnieszka/Downloads/requirements.txt (line 45)) (3.3.0.10)\n",
      "Requirement already satisfied: pandas in /Users/Agnieszka/anaconda3/lib/python3.6/site-packages (from -r /Users/Agnieszka/Downloads/requirements.txt (line 46)) (0.22.0)\n",
      "Requirement already satisfied: pandocfilters in /Users/Agnieszka/anaconda3/lib/python3.6/site-packages (from -r /Users/Agnieszka/Downloads/requirements.txt (line 47)) (1.4.2)\n",
      "Requirement already satisfied: parso in /Users/Agnieszka/anaconda3/lib/python3.6/site-packages (from -r /Users/Agnieszka/Downloads/requirements.txt (line 48)) (0.1.1)\n",
      "Requirement already satisfied: pexpect in /Users/Agnieszka/anaconda3/lib/python3.6/site-packages (from -r /Users/Agnieszka/Downloads/requirements.txt (line 49)) (4.3.1)\n",
      "Requirement already satisfied: pickleshare in /Users/Agnieszka/anaconda3/lib/python3.6/site-packages (from -r /Users/Agnieszka/Downloads/requirements.txt (line 50)) (0.7.4)\n",
      "Requirement already satisfied: pip in /Users/Agnieszka/anaconda3/lib/python3.6/site-packages (from -r /Users/Agnieszka/Downloads/requirements.txt (line 51)) (19.1)\n",
      "Requirement already satisfied: prometheus-client in /Users/Agnieszka/anaconda3/lib/python3.6/site-packages (from -r /Users/Agnieszka/Downloads/requirements.txt (line 52)) (0.6.0)\n",
      "Requirement already satisfied: prompt-toolkit in /Users/Agnieszka/anaconda3/lib/python3.6/site-packages (from -r /Users/Agnieszka/Downloads/requirements.txt (line 53)) (1.0.15)\n"
     ]
    },
    {
     "name": "stdout",
     "output_type": "stream",
     "text": [
      "Requirement already satisfied: protobuf in /Users/Agnieszka/anaconda3/lib/python3.6/site-packages (from -r /Users/Agnieszka/Downloads/requirements.txt (line 54)) (3.7.1)\n",
      "Requirement already satisfied: ptyprocess in /Users/Agnieszka/anaconda3/lib/python3.6/site-packages (from -r /Users/Agnieszka/Downloads/requirements.txt (line 55)) (0.5.2)\n",
      "Requirement already satisfied: pycosat in /Users/Agnieszka/anaconda3/lib/python3.6/site-packages (from -r /Users/Agnieszka/Downloads/requirements.txt (line 56)) (0.6.3)\n",
      "Requirement already satisfied: pycparser in /Users/Agnieszka/anaconda3/lib/python3.6/site-packages (from -r /Users/Agnieszka/Downloads/requirements.txt (line 57)) (2.18)\n",
      "Requirement already satisfied: Pygments in /Users/Agnieszka/anaconda3/lib/python3.6/site-packages (from -r /Users/Agnieszka/Downloads/requirements.txt (line 58)) (2.2.0)\n",
      "Requirement already satisfied: pyOpenSSL in /Users/Agnieszka/anaconda3/lib/python3.6/site-packages (from -r /Users/Agnieszka/Downloads/requirements.txt (line 59)) (17.5.0)\n",
      "Requirement already satisfied: pyparsing in /Users/Agnieszka/anaconda3/lib/python3.6/site-packages (from -r /Users/Agnieszka/Downloads/requirements.txt (line 60)) (2.2.0)\n",
      "Requirement already satisfied: pyrsistent in /Users/Agnieszka/anaconda3/lib/python3.6/site-packages (from -r /Users/Agnieszka/Downloads/requirements.txt (line 61)) (0.15.1)\n",
      "Requirement already satisfied: PySocks in /Users/Agnieszka/anaconda3/lib/python3.6/site-packages (from -r /Users/Agnieszka/Downloads/requirements.txt (line 62)) (1.6.7)\n",
      "Requirement already satisfied: python-dateutil in /Users/Agnieszka/anaconda3/lib/python3.6/site-packages (from -r /Users/Agnieszka/Downloads/requirements.txt (line 63)) (2.6.1)\n",
      "Requirement already satisfied: pytz in /Users/Agnieszka/anaconda3/lib/python3.6/site-packages (from -r /Users/Agnieszka/Downloads/requirements.txt (line 64)) (2017.3)\n",
      "Requirement already satisfied: PyYAML in /Users/Agnieszka/anaconda3/lib/python3.6/site-packages (from -r /Users/Agnieszka/Downloads/requirements.txt (line 65)) (3.12)\n",
      "Requirement already satisfied: pyzmq in /Users/Agnieszka/anaconda3/lib/python3.6/site-packages (from -r /Users/Agnieszka/Downloads/requirements.txt (line 66)) (16.0.3)\n",
      "Requirement already satisfied: qtconsole in /Users/Agnieszka/anaconda3/lib/python3.6/site-packages (from -r /Users/Agnieszka/Downloads/requirements.txt (line 67)) (4.3.1)\n",
      "Requirement already satisfied: requests in /Users/Agnieszka/anaconda3/lib/python3.6/site-packages (from -r /Users/Agnieszka/Downloads/requirements.txt (line 68)) (2.18.4)\n",
      "Requirement already satisfied: ruamel-yaml in /Users/Agnieszka/anaconda3/lib/python3.6/site-packages (from -r /Users/Agnieszka/Downloads/requirements.txt (line 69)) (0.15.35)\n",
      "Requirement already satisfied: scipy in /Users/Agnieszka/anaconda3/lib/python3.6/site-packages (from -r /Users/Agnieszka/Downloads/requirements.txt (line 70)) (1.0.0)\n",
      "Requirement already satisfied: Send2Trash in /Users/Agnieszka/anaconda3/lib/python3.6/site-packages (from -r /Users/Agnieszka/Downloads/requirements.txt (line 71)) (1.4.2)\n",
      "Requirement already satisfied: setuptools in /Users/Agnieszka/anaconda3/lib/python3.6/site-packages (from -r /Users/Agnieszka/Downloads/requirements.txt (line 72)) (38.4.0)\n",
      "Requirement already satisfied: six in /Users/Agnieszka/anaconda3/lib/python3.6/site-packages (from -r /Users/Agnieszka/Downloads/requirements.txt (line 73)) (1.11.0)\n",
      "Requirement already satisfied: tensorboard in /Users/Agnieszka/anaconda3/lib/python3.6/site-packages (from -r /Users/Agnieszka/Downloads/requirements.txt (line 74)) (1.13.1)\n",
      "Requirement already satisfied: tensorflow in /Users/Agnieszka/anaconda3/lib/python3.6/site-packages (from -r /Users/Agnieszka/Downloads/requirements.txt (line 75)) (1.5.0)\n",
      "Requirement already satisfied: tensorflow-estimator in /Users/Agnieszka/anaconda3/lib/python3.6/site-packages (from -r /Users/Agnieszka/Downloads/requirements.txt (line 76)) (1.13.0)\n",
      "Requirement already satisfied: termcolor in /Users/Agnieszka/anaconda3/lib/python3.6/site-packages (from -r /Users/Agnieszka/Downloads/requirements.txt (line 77)) (1.1.0)\n",
      "Requirement already satisfied: terminado in /Users/Agnieszka/anaconda3/lib/python3.6/site-packages (from -r /Users/Agnieszka/Downloads/requirements.txt (line 78)) (0.8.1)\n",
      "Requirement already satisfied: testpath in /Users/Agnieszka/anaconda3/lib/python3.6/site-packages (from -r /Users/Agnieszka/Downloads/requirements.txt (line 79)) (0.3.1)\n",
      "Requirement already satisfied: tornado in /Users/Agnieszka/anaconda3/lib/python3.6/site-packages (from -r /Users/Agnieszka/Downloads/requirements.txt (line 80)) (4.5.3)\n",
      "Requirement already satisfied: traitlets in /Users/Agnieszka/anaconda3/lib/python3.6/site-packages (from -r /Users/Agnieszka/Downloads/requirements.txt (line 81)) (4.3.2)\n",
      "Requirement already satisfied: urllib3 in /Users/Agnieszka/anaconda3/lib/python3.6/site-packages (from -r /Users/Agnieszka/Downloads/requirements.txt (line 82)) (1.22)\n",
      "Requirement already satisfied: wcwidth in /Users/Agnieszka/anaconda3/lib/python3.6/site-packages (from -r /Users/Agnieszka/Downloads/requirements.txt (line 83)) (0.1.7)\n",
      "Requirement already satisfied: webencodings in /Users/Agnieszka/anaconda3/lib/python3.6/site-packages (from -r /Users/Agnieszka/Downloads/requirements.txt (line 84)) (0.5.1)\n",
      "Requirement already satisfied: Werkzeug in /Users/Agnieszka/anaconda3/lib/python3.6/site-packages (from -r /Users/Agnieszka/Downloads/requirements.txt (line 85)) (0.14.1)\n",
      "Requirement already satisfied: wheel in /Users/Agnieszka/anaconda3/lib/python3.6/site-packages (from -r /Users/Agnieszka/Downloads/requirements.txt (line 86)) (0.30.0)\n",
      "Requirement already satisfied: widgetsnbextension in /Users/Agnieszka/anaconda3/lib/python3.6/site-packages (from -r /Users/Agnieszka/Downloads/requirements.txt (line 87)) (3.1.0)\n",
      "Requirement already satisfied: html5lib!=0.9999,!=0.99999,<0.99999999,>=0.999 in /Users/Agnieszka/anaconda3/lib/python3.6/site-packages (from bleach->-r /Users/Agnieszka/Downloads/requirements.txt (line 7)) (0.9999999)\n",
      "Requirement already satisfied: simplegeneric>0.8 in /Users/Agnieszka/anaconda3/lib/python3.6/site-packages (from ipython->-r /Users/Agnieszka/Downloads/requirements.txt (line 22)) (0.8.1)\n",
      "Requirement already satisfied: tensorflow-tensorboard<1.6.0,>=1.5.0 in /Users/Agnieszka/anaconda3/lib/python3.6/site-packages (from tensorflow->-r /Users/Agnieszka/Downloads/requirements.txt (line 75)) (1.5.1)\n"
     ]
    }
   ],
   "source": [
    "!pip install -r /Users/Agnieszka/Downloads/requirements.txt"
   ]
  },
  {
   "cell_type": "code",
   "execution_count": 23,
   "metadata": {},
   "outputs": [
    {
     "name": "stdout",
     "output_type": "stream",
     "text": [
      "Requirement already up-to-date: numpy in /Users/Agnieszka/anaconda3/lib/python3.6/site-packages (1.16.3)\r\n"
     ]
    }
   ],
   "source": [
    "!pip install --upgrade numpy"
   ]
  },
  {
   "cell_type": "code",
   "execution_count": 24,
   "metadata": {},
   "outputs": [
    {
     "name": "stdout",
     "output_type": "stream",
     "text": [
      "Requirement already satisfied: opencv-python==3.3.0.10 in /Users/Agnieszka/anaconda3/lib/python3.6/site-packages (3.3.0.10)\r\n",
      "Requirement already satisfied: numpy>=1.11.1 in /Users/Agnieszka/anaconda3/lib/python3.6/site-packages (from opencv-python==3.3.0.10) (1.16.3)\r\n"
     ]
    }
   ],
   "source": [
    "!pip install opencv-python==3.3.0.10"
   ]
  },
  {
   "cell_type": "code",
   "execution_count": 25,
   "metadata": {},
   "outputs": [],
   "source": [
    "import keras\n",
    "import pandas as pd\n",
    "from glob import glob                                # Parcourir dossier de dataset\n",
    "import matplotlib.pyplot as plt\n",
    "import cv2                                           # traitement des images du dataset\n",
    "from keras.datasets import mnist                     # Importe le dataset de mnist\n",
    "from keras.utils import to_categorical               # pour modifier les labels\n",
    "from keras.models import Sequential, load_model      # type de modele\n",
    "from keras.layers import Dense, Flatten              # Fully Connected Layers\n",
    "from keras.layers import Conv2D, MaxPooling2D        # Convolutional layers + Maxpooling layers\n",
    "from keras.optimizers import Adam\n",
    "from keras.losses import categorical_crossentropy    # Loss function\n",
    "\n",
    "# from keras.callbacks import TensorBoard\n",
    "\n",
    "import h5py                                          # Pour pouvoir enregistrer son modele en .h5\n"
   ]
  },
  {
   "cell_type": "markdown",
   "metadata": {},
   "source": [
    "# Detection of handwritten digits with MNIST\n",
    "\n",
    "MNIST est un exemple très souvent utilisé pour commencer avec les CNN, son dataset existe sur keras et peut être directement importé avec la fonction **load_data( )**\n",
    "\n",
    "Note :\n",
    "- Le dataset de MNIST a 60 000 exemples d'entrainement et 10 000 exemples de training\n",
    "- Le format de chaque image est de 28x28 pixels"
   ]
  },
  {
   "cell_type": "markdown",
   "metadata": {},
   "source": [
    "## STEP 1 : Load data"
   ]
  },
  {
   "cell_type": "code",
   "execution_count": 19,
   "metadata": {},
   "outputs": [
    {
     "name": "stdout",
     "output_type": "stream",
     "text": [
      "Downloading data from https://s3.amazonaws.com/img-datasets/mnist.npz\n",
      "11493376/11490434 [==============================] - 44s 4us/step\n"
     ]
    }
   ],
   "source": [
    "# Les données sont déjà séparées en training set et testing set sur keras\n",
    "\n",
    "(x_train, y_train), (x_test, y_test) = mnist.load_data()"
   ]
  },
  {
   "cell_type": "markdown",
   "metadata": {},
   "source": [
    "Vous pouvez voir à quoi ressemble votre dataset avec un print. A noter que votre x_train est une liste [ ] de 60 000 exemples et que votre x_test est une liste de 10 000 exemples"
   ]
  },
  {
   "cell_type": "code",
   "execution_count": 20,
   "metadata": {},
   "outputs": [
    {
     "name": "stdout",
     "output_type": "stream",
     "text": [
      "(60000, 28, 28)\n"
     ]
    }
   ],
   "source": [
    "print(x_train.shape)"
   ]
  },
  {
   "cell_type": "markdown",
   "metadata": {},
   "source": [
    "- Chaque exemple se compose de 28 listes de 28 valeurs (car 28x28 pixels), il y a donc 28x28 = 784 valeurs, une par pixel\n",
    "- Chaque pixel a une valeur comprise entre 0 et 255, car un int = 8 octets donc 2^8 = 256 valeurs possibles, mais on commence à zéro donc 0-255\n",
    "- Les labels sont une valeur unique comprise entre 0 et 9 et correspondent au digit de l'image en question  \n",
    "  \n",
    "Vous pouvez verifier la shape de votre dataset (x_train, x_test, y_train et y_test)"
   ]
  },
  {
   "cell_type": "code",
   "execution_count": null,
   "metadata": {},
   "outputs": [],
   "source": []
  },
  {
   "cell_type": "markdown",
   "metadata": {},
   "source": [
    "## STEP 2 : Prepare Data\n",
    "\n",
    "\n",
    "Ensuite, une fois les données importées, nous devons les préparer afin qu'elles puissent être données à notre modèle  \n",
    "Dans un premier temps, nous allons ajouter une dimension à la fin de nos x_train et x_test pour préciser le nombre de canaux que nous utiliserons grâce à la fonction **.reshape( )**\n",
    "\n",
    "- 1 pour Noir et Blanc\n",
    "- 3 pour RGB\n",
    "- L pour nuances de gris\n",
    "\n",
    "Pour cet exemple, nous nous contenterons d'une image en N&B, donc la valeur de notre dimension supplémentaire sera égale à 1"
   ]
  },
  {
   "cell_type": "code",
   "execution_count": null,
   "metadata": {},
   "outputs": [],
   "source": [
    "x_train = \n",
    "x_test = "
   ]
  },
  {
   "cell_type": "markdown",
   "metadata": {},
   "source": [
    "Nous allons ensuite normaliser notre dataset afin que les valeurs de nos pixels soient comprises entre 0 et 1 plutôt qu'entre 0 et 255. Cela facilitera les calculs pour la machine.\n",
    "\n",
    "Pour ce faire, il faudra d'abord \"recaster\" nos variables *x_train* et *x_test* en tant que float."
   ]
  },
  {
   "cell_type": "code",
   "execution_count": null,
   "metadata": {},
   "outputs": [],
   "source": [
    "# Recast\n",
    "\n",
    "x_train = \n",
    "x_test = \n",
    "\n",
    "# Normalize\n",
    "\n",
    "x_train /= \n",
    "x_test /= "
   ]
  },
  {
   "cell_type": "markdown",
   "metadata": {},
   "source": [
    "Maintenant qu'on a bien modifié nos training et testing sets, il nous reste à modifier nos labels de façon à ce que la machine puisse mieux les comprendre.\n",
    "\n",
    "Pour l'instant, notre y_train est une liste de 60 000 valeurs entre 0 et 9, qui sont les labels des images correspondantes. \n",
    "\n",
    "*y_train[8] = label de la 9ème image de notre dataset, x_train[8]*\n",
    "\n",
    "Plutôt que d'avoir un label qui soit une valeur comprise entre 0 et 9, on va préférer avoir un label qui a la forme d'un one-hot vecteur. C'est à dire un vecteur composé de 10 valeurs (0 ou 1), avec un 1 a la position correspondante au label, et des 0 partout ailleurs.\n",
    "\n",
    "*Exemple : on veut transformer un* **y_train[8] = 1** en **y_train[8] = [0, 1, 0, 0, 0, 0, 0, 0, 0, 0]**\n",
    "\n",
    "On va utiliser une fonction de keras appelée **to_categorical(a, b)** qui prend en paramètre :\n",
    "- a = la liste qu'on cherche à changer\n",
    "- b = le nombre de sorties que nous avons\n",
    "\n",
    "Note : Cette fonction saura automatiquement où placer le 1 dans votre vecteur. Vous devez donc juste lui donner le nombre de catégories possibles que notre modèle pourra avoir."
   ]
  },
  {
   "cell_type": "code",
   "execution_count": null,
   "metadata": {},
   "outputs": [],
   "source": [
    "y_train = \n",
    "y_test = "
   ]
  },
  {
   "cell_type": "markdown",
   "metadata": {},
   "source": [
    "## STEP 3 : Create Model\n",
    "\n",
    "Maintenant que nos données sont prêtes, nous allons pouvoir créer notre modèle. Keras a énormément de fonctions qui nous permettent d'éviter d'avoir à recoder nos fonctions de loss ou de backpropagation, pour l'objectif de cet exercice, nous allons donc les utiliser :)\n",
    "\n",
    "Nous allons commencer par définir une variable en tant que modèle en utilisant la méthode Sequential de keras. Utiliser cette méthode nous facilitera le travail pour ajouter nos couches et train notre modèle. Pour plus d'infos vous pouvez checker la doc\n",
    "\n",
    "https://keras.io/models/sequential/\n",
    "\n",
    "Nous allons ensuite pouvoir y ajouter les couches dont nous avons besoin. Rappelez vous l'ordre des couches (D'abord les couches de conv, puis les couches de Maxpool, puis les Fully Connected)\n",
    "\n",
    "Pour ajouter une couche, vous pouvez utiliser la fonction **.add( )**\n",
    "\n",
    "\n",
    "Pour chaque couche de convolution, vous devrez préciser :  \n",
    "*Attention ! Pour la première couche, n'oubliez pas qu'il faut préciser l'* **input_shape**\n",
    "- Le nombre de neurones\n",
    "- La taille de kernel si couche conv\n",
    "- La taille de Pool si couche MaxPool\n",
    "- La fonction d'activation (nous utiliserons **'relu'**)\n",
    "\n",
    "Pour chaque couche de MaxPooling, vous devrez préciser :\n",
    "- La taille de Pool si couche MaxPool\n",
    "\n",
    "Pour chaque couche de Fully Connected, vous devrez préciser :\n",
    "- Le nombre de neurones\n",
    "- La fonction d'activation (nous utiliserons **'relu'**)\n",
    "*Attention ! Pour la dernière couche de FC, n'oubliez pas qu'il faut préciser le* **nombre de sorties et non le nombre de neurones** *et que votre fonction d'activation est* **'softmax'** *et non* **'relu'**\n",
    "\n",
    "Voici la doc qui vous aidera à mieux comprendre Sequential https://keras.io/getting-started/sequential-model-guide/\n",
    "\n",
    "Vous pouvez utiliser la fonction **.summary( )** pour voir les détails de vos couches"
   ]
  },
  {
   "cell_type": "code",
   "execution_count": null,
   "metadata": {},
   "outputs": [],
   "source": [
    "# Define model\n",
    "model = Sequential()\n",
    "\n",
    "# Ajouter les couches de convolution\n",
    "\n",
    "\n",
    "\n",
    "# Ajouter les couches de MaxPooling\n",
    "\n",
    "\n",
    "\n",
    "# Alterner entre couche de convolution et maxpooling\n",
    "\n",
    "\n",
    "\n",
    "# Applatir le dataset en un seul array\n",
    "model.add(Flatten())\n",
    "\n",
    "\n",
    "\n",
    "# Ajouter les couches Fully Connected\n",
    "\n",
    "\n",
    "\n",
    "# Ajouter la dernière couche FC, mais avec cette fois le nombre de sorties au lieu du nombre de neurones et 'softmax' comme activation\n",
    "\n",
    "\n",
    "# Compilation du modèle avant l'entrainement\n",
    "model.compile(loss='categorical_crossentropy', \n",
    "              optimizer=Adam(), \n",
    "              metrics=['accuracy'])\n",
    "\n",
    "# Recap de votre modèle, avec l'output shape à chaque couche\n",
    "model.summary()"
   ]
  },
  {
   "cell_type": "markdown",
   "metadata": {},
   "source": [
    "## STEP 4 : Train Model and save it\n",
    "\n",
    "Nous devons maintenant entrainer notre modèle afin de voir ses performances. Pour cela, vous pouvez utiliser la fonction **.fit( )** qui prend en paramètres :\n",
    "- x_train\n",
    "- y_train,\n",
    "- votre taille de batch (favorisez les puissances de 2)\n",
    "- votre nombre d'epochs\n",
    "- votre proportion de validation (par ex 0.2 pour 20%)"
   ]
  },
  {
   "cell_type": "code",
   "execution_count": null,
   "metadata": {},
   "outputs": [],
   "source": [
    "training = model.fit(...)\n",
    "\n",
    "# On évalue ensuite notre modèle sur notre testing set\n",
    "score = model.evaluate(x_test, y_test, batch_size=128)\n",
    "print('score = ', score)\n",
    "\n",
    "# Save le modèle\n",
    "model.save(\"votre_model.h5\")"
   ]
  },
  {
   "cell_type": "markdown",
   "metadata": {},
   "source": [
    "Vous pouvez voir l'évolution de vos loss et accuracy grâce à cette fonction (Kdo)"
   ]
  },
  {
   "cell_type": "code",
   "execution_count": null,
   "metadata": {},
   "outputs": [],
   "source": [
    "historydf = pd.DataFrame(training.history, index=training.epoch)\n",
    "historydf.plot(ylim=(0,1))"
   ]
  },
  {
   "cell_type": "markdown",
   "metadata": {},
   "source": [
    "## STEP 5 : Testing our model\n",
    "\n",
    "Maintenant que nous avons un modèle, nous allons pouvoir le tester. Pour cela, nous allons créer nos propres images de digits en blanc sur noir en allant sur ce site : https://www.piskelapp.com/\n",
    "- Cliquer sur *Create Sprite* en haut à droite\n",
    "- Dans les paramètres, resize l'image à 28x28\n",
    "- N'oubliez pas de faire un **fond noir**\n",
    "- Dessinez le digit que vous voulez tester **en blanc** (n'hésitez pas à en faire plusieurs)\n",
    "- Exportez votre image (icone de la montagne)\n",
    "- Vérifiez que vous êtes bien sous l'onglet PNG, et cliquez sur *Download Selected frame export*\n",
    "\n",
    "Ensuite, une fois toutes vos images téléchargées, renommez les avec leur label correspondant (ce sera plus simple de vérifier le résultat), ex : image de 0 sera nommée 0.png\n",
    "  \n",
    "Mettez toutes vos images dans le même dossier que votre jupyter notebook\n",
    "  \n",
    "Pour aller chercher les images à tester, nous allons utiliser un module appelé **glob** qui se situe déjà dans vos imports.\n",
    "  \n",
    "Il faudra ensuite faire les mêmes modifications que nous avons faites à notre dataset dans le *STEP 2 : Prepare dataset* (reshape, normalize)"
   ]
  },
  {
   "cell_type": "code",
   "execution_count": null,
   "metadata": {},
   "outputs": [],
   "source": [
    "# Recupérer toutes nos images\n",
    "all_images = glob('*.png')\n",
    "\n",
    "model = load_model('votre_model.h5')\n",
    "\n",
    "# Loop in all_images to process each image\n",
    "for image in all_images :\n",
    "    # Open the image using cv2\n",
    "    img = cv2.imread(image, 0)\n",
    "    \n",
    "    # Print the image to see (will only print the last one of the loop)\n",
    "    #plt.imshow(img)\n",
    "    \n",
    "    # Reshape the image, adding one dimension at the end\n",
    "    img = img.reshape(1, 28, 28, 1)\n",
    "    \n",
    "    # Recast and normalize\n",
    "    img = img.astype('float32')\n",
    "    img /= 255\n",
    "    \n",
    "    # Get prediction\n",
    "    prediction = model.predict(img)\n",
    "    \n",
    "    # Get highest value index\n",
    "    prediction = np.argmax(prediction)\n",
    "    \n",
    "    print('The prediction for ', image, 'is :', prediction)"
   ]
  }
 ],
 "metadata": {
  "kernelspec": {
   "display_name": "Python 3",
   "language": "python",
   "name": "python3"
  },
  "language_info": {
   "codemirror_mode": {
    "name": "ipython",
    "version": 3
   },
   "file_extension": ".py",
   "mimetype": "text/x-python",
   "name": "python",
   "nbconvert_exporter": "python",
   "pygments_lexer": "ipython3",
   "version": "3.6.4"
  }
 },
 "nbformat": 4,
 "nbformat_minor": 2
}
